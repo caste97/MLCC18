{
 "cells": [
  {
   "cell_type": "markdown",
   "metadata": {},
   "source": [
    "# MLCC - Laboratory 4 - Clustering\n",
    "In this laboratory we will see how to use regularization networks for regression and classification. Follow the instructions below. Think hard before you call the instructors!\n",
    "\n",
    "Import all the functions from the file \"lab4ImpFunction.py\" by: <br>\n",
    "`from lab4ImpFunction import *` <br>\n",
    "Also import pyplot for plotting: <br>\n",
    "`import matplotlib.pyplot as plt`"
   ]
  },
  {
   "cell_type": "code",
   "execution_count": 1,
   "metadata": {
    "collapsed": true
   },
   "outputs": [],
   "source": [
    "from Lab4ImpFunction import *\n",
    "import matplotlib.pyplot as plt"
   ]
  },
  {
   "cell_type": "markdown",
   "metadata": {},
   "source": [
    "## 1. Warm up - data generation\n",
    "\n",
    "* **1.A** The function  `MixGauss(means, sigmas, n)` generates dataset  `[X,Y]` where the `X` is composed of mixed classes, each class being generated according to a Gaussian distribution with given mean and standard deviation. The points in the dataset `X` are enumerated from 1 to n, and `Y` represents the label of each point. Hint: if the command help MixGauss fails, this probably means that you have not set up correctly your current working directory'. Have a look at the code or, for a quick help, type \"help(MixGauss)\" on the Matlab shell.\n",
    "\n",
    "\n",
    "* **1.B** Use MixGauss to create a dataset with `n` classes, where `n` is betwwen `4` and `8`. Treat every class a a gaussian with a different mean. Have the means lie inside the square of center `(0,0)` with side length = 1. <br>\n",
    "`X, Y = MixGauss(means=[[0,0],[1,1]], sigmas=[0.5, 0.25], n=50)\n",
    "plt.figure(1)\n",
    "plt.title(\"Dataset 1\")\n",
    "plt.scatter(X[:,0], X[:,1], s=40, c=Y, alpha=0.8) %type \"help(plt.scatter)\" to see what the parameters mean\n",
    "plt.show()`\n",
    "\n",
    "\n",
    "* **1.C** Use the pyplot function `scatter(...)` to plot the training dataset."
   ]
  },
  {
   "cell_type": "markdown",
   "metadata": {},
   "source": [
    "## 2. K-means\n",
    "\n",
    "* **2.A** Read the implementation of the function `LLoyd` in the file `Lab4ImpFunction.py`. Choose at random `k` initial centers for the algorithm. Choose `k` equal to the number of artificially generated clusters in your data. \n",
    "\n",
    "    `clusters, centroids = LLoyd(X=X, centers=centers, maxiter=100)`\n",
    "    \n",
    "    \n",
    "* **2.B** Plot the computed cluster using `plt.scatter`\n",
    "    \n",
    "    `plt.scatter(X[:,0], X[:,1], s=40, c=clusters, alpha=0.5)\n",
    "plt.scatter(centroids[:,0], centroids[:, 1], s= 150, c=[4,5,6,7], marker='^')\n",
    "plt.show()`\n",
    "\n",
    "\n",
    "* **2.C** Load the two moons dataset using the `two_moons` function and repeat the previous steps. What do you observe?"
   ]
  },
  {
   "cell_type": "markdown",
   "metadata": {
    "collapsed": true
   },
   "source": [
    "## 3. Spectral clustering\n",
    "\n",
    "* **2.A** Generate the normalized Laplacian matrix of your dataset using `normLaplacian` function\n",
    "\n",
    "* **2.B** Compute the SVD on the Laplacian and plot the *smallest* eigenvalues of the Laplacian. You can do SVD by just performing PCA with k equale to the number of points in your dataset\n",
    "    \n",
    "    `V,d,X_proj = PCA(L, k=n*k)\n",
    "plot_dim = 20\n",
    "plt.scatter(np.arange(plot_dim), d[-plot_dim:], s=40, alpha=0.5)\n",
    "plt.show()`\n",
    "\n",
    "\n",
    "* **2.C** Visualize the dimensions associated with the *smallest* eigenvalues (you can access an array from the end using negative indices). As the eigenvalue associated with the dimension grows, what do you observe?\n",
    "\n",
    "    `plt.scatter(V[-1], V[-2], s=40, c=Y, alpha=0.5)\n",
    "plt.show()`\n",
    "\n",
    "\n",
    "* **2.D** Load the two moons dataset using the `two_moons` function and repeat the previous steps. What do you observe?"
   ]
  },
  {
   "cell_type": "code",
   "execution_count": null,
   "metadata": {
    "collapsed": true
   },
   "outputs": [],
   "source": []
  }
 ],
 "metadata": {
  "kernelspec": {
   "display_name": "Python 3",
   "language": "python",
   "name": "python3"
  },
  "language_info": {
   "codemirror_mode": {
    "name": "ipython",
    "version": 3
   },
   "file_extension": ".py",
   "mimetype": "text/x-python",
   "name": "python",
   "nbconvert_exporter": "python",
   "pygments_lexer": "ipython3",
   "version": "3.6.1"
  }
 },
 "nbformat": 4,
 "nbformat_minor": 2
}
